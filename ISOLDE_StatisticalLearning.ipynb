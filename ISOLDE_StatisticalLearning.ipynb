{
 "cells": [
  {
   "cell_type": "markdown",
   "metadata": {},
   "source": [
    "# Computational Modelling Tutorial - Simulating Infant Statistical Learning"
   ]
  },
  {
   "cell_type": "markdown",
   "metadata": {},
   "source": [
    "## Introduction"
   ]
  },
  {
   "cell_type": "markdown",
   "metadata": {},
   "source": [
    "This IPython notebook contains exercise 1 of the Computational Modelling tutorial at ISOLDE 2018 in Potsdam. \n",
    "\n",
    "- What does the model do?\n",
    "\n",
    "This model tests the hypothesis that infants use transitional probabilities to learn where word boundaries lies within unsegmented, continuous speech. The model will be written in Python, but the same ideas could also be implemented using a different programming language.\n",
    "\n",
    "- What do we need?\n",
    "\n",
    "\n",
    "1. Reading in the data from the corpus, by opening it, reading it in line by line and counting the syllables and syllable pairs. \n",
    "2. Computing the probabilities for the bigrams (syllable pairs) and unigrams (single syllables)\n",
    "3. Testing the model by comparing the average probability of words to the average probability of non-words\n",
    "\n",
    "- But first:\n",
    "\n",
    "Let's learn some Python!\n",
    "\n"
   ]
  },
  {
   "cell_type": "markdown",
   "metadata": {},
   "source": [
    "## Mini-tutorial: Python basics"
   ]
  },
  {
   "cell_type": "markdown",
   "metadata": {},
   "source": [
    "Important note for using Python: \n",
    "\n",
    "Blocks of code that belong together must by indented the same way, so be careful not to mix indention using spaces and tabs as this might look the same. If your code does not compile, checking the indenting is a good thing to check at first.\n",
    "\n",
    "### Variable-types\n",
    "\n",
    "#### Numbers\n",
    "\n",
    "Variables containing numbers are made by assigning a value to a variable name, for instance:"
   ]
  },
  {
   "cell_type": "code",
   "execution_count": null,
   "metadata": {
    "collapsed": true
   },
   "outputs": [],
   "source": [
    "number_of_sandwiches = 4\n",
    "\n",
    "price_per_sandwich = 3.50\n",
    "\n",
    "price = number_of_sandwiches * price_per_sandwich"
   ]
  },
  {
   "cell_type": "markdown",
   "metadata": {},
   "source": [
    "#### Text\n",
    "\n",
    "Variables containing text are called strings, and they are made by assigning the text (within quotation marks) to a variable name, for instance:"
   ]
  },
  {
   "cell_type": "code",
   "execution_count": 2,
   "metadata": {
    "collapsed": true
   },
   "outputs": [],
   "source": [
    "type_of_sandwich = \"tomato and cheese\""
   ]
  },
  {
   "cell_type": "markdown",
   "metadata": {},
   "source": [
    "#### Lists\n",
    "When you want to store multiple bits of information in one variable, you could use a list. Lists are made by using square brackets [] and separating everything you store in the list with a comma.\n"
   ]
  },
  {
   "cell_type": "code",
   "execution_count": null,
   "metadata": {
    "collapsed": true
   },
   "outputs": [],
   "source": [
    "empty_order = []\n",
    "\n",
    "order = [4,\"tomato_and_cheese\", 3.50]"
   ]
  },
  {
   "cell_type": "markdown",
   "metadata": {},
   "source": [
    "#### Dictionaries\n",
    "Another way of storing information is using dictionaries. In a dictionary, you can store combinations of a 'key' and value. Keys are usually string-variables, but the value can be any kind of variable-type. \n"
   ]
  },
  {
   "cell_type": "code",
   "execution_count": null,
   "metadata": {
    "collapsed": true
   },
   "outputs": [],
   "source": [
    "#Making an empty dictionary is done by using curly brackets {}:\n",
    "\n",
    "employee_numbers = {}\n",
    "\n",
    "#You can add a key-value pair to the dictionary: \n",
    "employee_numbers['Hank'] = 6758\n",
    "employee_numbers['Sarah'] = 5664\n",
    "\n",
    "#And asks for the value linked to a key: \n",
    "\n",
    "Sarahs_employee_number = employee_numbers['Sarah']"
   ]
  },
  {
   "cell_type": "markdown",
   "metadata": {},
   "source": [
    "### Control-flow\n",
    "\n",
    "#### If-else - statements\n",
    "If else - statements can be used when you only want something to happen in certain cases, and not in others. For instance:\n"
   ]
  },
  {
   "cell_type": "code",
   "execution_count": null,
   "metadata": {
    "collapsed": true
   },
   "outputs": [],
   "source": [
    "credit = 40.65\n",
    "\n",
    "if credit < price:\n",
    "    print('not enough credit, try paying in a different way')\n",
    "else:\n",
    "    credit -= price\n",
    "    print('thank you for your purchase!')"
   ]
  },
  {
   "cell_type": "markdown",
   "metadata": {},
   "source": [
    "\n",
    "\n",
    "#### For-loops\n",
    "With a for-loop you can iterate over a sequence (either a list or a string) and perform a certain computation for each item within the sequence. For example:"
   ]
  },
  {
   "cell_type": "code",
   "execution_count": null,
   "metadata": {
    "collapsed": true
   },
   "outputs": [],
   "source": [
    "names = ['Hank', 'Sarah', 'Joe']\n",
    "\n",
    "for name in names:\n",
    "    print(\"Hello \"+ name + \" !\")\n",
    "    \n",
    "#Or, another example:\n",
    "prices = [3.5,5.6,8.0,2.4]\n",
    "total_price = 0\n",
    "\n",
    "for i in range(0,len(prices)):\n",
    "    total_price += prices[i]\n",
    "    \n",
    "print(total_price)"
   ]
  },
  {
   "cell_type": "markdown",
   "metadata": {},
   "source": [
    "## Writing your own code"
   ]
  },
  {
   "cell_type": "markdown",
   "metadata": {},
   "source": [
    "### Step 1: Reading in the data"
   ]
  },
  {
   "cell_type": "markdown",
   "metadata": {},
   "source": [
    "We need a function that can read in the data from the corpusfile. \n",
    "\n",
    "First, we need to create a list to store the results. \n",
    "\n",
    "Then, we open the file for reading, signalled by 'r', and read it in line by line. For each line of in the corpus we remove the end-of-line symbol and add the remained syllable to the list of results. \n",
    "\n",
    "Finally, we return the list with syllables so that it can be used by the rest of the program."
   ]
  },
  {
   "cell_type": "code",
   "execution_count": null,
   "metadata": {
    "collapsed": true
   },
   "outputs": [],
   "source": [
    "def read_corpus(filename):\n",
    "    \"\"\" read corpus from '\\n'-delimited text file\n",
    "    returns a list of syllables \"\"\"\n",
    "    \n",
    "    #Write your Python-code here\n",
    "    #...\n",
    "    \n",
    "    # open the file for reading and loop over the lines\n",
    "    for line in open(filename, 'r'):\n",
    "        #...\n",
    "    \n",
    "    return result"
   ]
  },
  {
   "cell_type": "code",
   "execution_count": null,
   "metadata": {
    "collapsed": true
   },
   "outputs": [],
   "source": [
    "#This is how we want to use this little routine:\n",
    "corpusfile = 'saffran_corpus.cor'\n",
    "corpus = read_corpus(corpusfile)"
   ]
  },
  {
   "cell_type": "markdown",
   "metadata": {
    "collapsed": true
   },
   "source": [
    "### Step 2: Processing the data"
   ]
  },
  {
   "cell_type": "markdown",
   "metadata": {},
   "source": [
    "Next, we need to process the corpus and compute the probabilities for the syllables and syllable-pairs. We split this functionality into three parts."
   ]
  },
  {
   "cell_type": "markdown",
   "metadata": {},
   "source": [
    "The counts of the syllables or syllable-pairs can be stored in dictionaries. Then, we go through the list of syllables to add the syllables and syllable-pairs to the dictionaries, or update their respective counts if they are already in the dictionary. "
   ]
  },
  {
   "cell_type": "code",
   "execution_count": null,
   "metadata": {
    "collapsed": true
   },
   "outputs": [],
   "source": [
    "def process_corpus(list_of_syllables):\n",
    "    \"\"\" extract count of uni- & bigram occurrences from sequence\n",
    "    of syllables in list_of_syllables \"\"\"\n",
    "    \n",
    "    #Write your code here\n",
    "    #...\n",
    "    \n",
    "\n",
    "    # return the dictionaries with the unigram and bigram counts\n",
    "    return unigram_dict, bigram_dict"
   ]
  },
  {
   "cell_type": "markdown",
   "metadata": {},
   "source": [
    "The probability of a bigram (syll_1, syll_2) can be computed by divided the count of both syllables togethers by the count of the first syllable alone.  So, you compute how often the first syllable is followed by the second, opposed to by any other syllable."
   ]
  },
  {
   "cell_type": "code",
   "execution_count": null,
   "metadata": {
    "collapsed": true
   },
   "outputs": [],
   "source": [
    "def estimated_bigram_probability(bigram, unigram_dict, bigram_dict):\n",
    "    \"\"\" estimate the probability of bigram (= (syll_1,syll_2)) by:\n",
    "    (count (syll_1,syll_2)) / (count syll_1)\n",
    "    \"\"\"\n",
    "\n",
    "    #Write your code here\n",
    "    #...\n",
    "    \n",
    "    #return the estimated bigram probability \n",
    "    return prob"
   ]
  },
  {
   "cell_type": "markdown",
   "metadata": {},
   "source": [
    "The probability of a sequence of syllables can be computed by going through the sequence and multiplying all the estimated bigram probabilities of the sequence."
   ]
  },
  {
   "cell_type": "code",
   "execution_count": null,
   "metadata": {
    "collapsed": true
   },
   "outputs": [],
   "source": [
    "def estimated_sequence_probability(list_of_syllables, unigram_dict, bigram_dict):\n",
    "    \"\"\" estimate probability of sequence of syllables,\n",
    "    represented as a list \"\"\"\n",
    "    \n",
    "    #Write your code here\n",
    "    #...\n",
    "\n",
    "    # return the estimated probability of the entire sequence\n",
    "    return prob"
   ]
  },
  {
   "cell_type": "markdown",
   "metadata": {},
   "source": [
    "### Step 3: Testing the model"
   ]
  },
  {
   "cell_type": "markdown",
   "metadata": {},
   "source": [
    "To test the model we need the experimental test-phase stimuli from the Saffran-study. These are given below. \n",
    "\n",
    "We want to compare the average probability for word to the average probability for non-words. "
   ]
  },
  {
   "cell_type": "code",
   "execution_count": null,
   "metadata": {
    "collapsed": true
   },
   "outputs": [],
   "source": [
    "def test_model(unigram_dict, bigram_dict):\n",
    "    \"\"\" test the model on saffran's words and non-words\n",
    "    \"\"\"\n",
    "    \n",
    "    # the words and non-words from saffran\n",
    "    words = [['tu','pi','ro'],\n",
    "             ['go','la','bu'],\n",
    "             ['bi','da','ku'],\n",
    "             ['pa','do','ti']]\n",
    "    non_words = [['da','pi','ku'],\n",
    "                 ['ti','la','do']]\n",
    "\n",
    "    # calculate the sum of the probabilities of the words\n",
    "    #Write your code here\n",
    "    #...\n",
    "\n",
    "    # divide by the number of words to get the average\n",
    "    #Write your code here\n",
    "    #...\n",
    "\n",
    "    # idem for the non-words\n",
    "    #Write your code here\n",
    "    #...\n",
    "\n",
    "    print('Average probability for words:', average_word)\n",
    "    print('Average probability for non-words:', average_non_word)\n",
    "\n"
   ]
  },
  {
   "cell_type": "markdown",
   "metadata": {},
   "source": [
    "Now you can complete a whole run through the model. Which commands do you need to type in below in what order?"
   ]
  },
  {
   "cell_type": "code",
   "execution_count": null,
   "metadata": {},
   "outputs": [],
   "source": [
    "#Let's see whether everything works. Don't worry if you get an error message, that is normal even for experienced programmers."
   ]
  }
 ],
 "metadata": {
  "kernelspec": {
   "display_name": "Python 3",
   "language": "python",
   "name": "python3"
  },
  "language_info": {
   "codemirror_mode": {
    "name": "ipython",
    "version": 3
   },
   "file_extension": ".py",
   "mimetype": "text/x-python",
   "name": "python",
   "nbconvert_exporter": "python",
   "pygments_lexer": "ipython3",
   "version": "3.6.3"
  }
 },
 "nbformat": 4,
 "nbformat_minor": 2
}
