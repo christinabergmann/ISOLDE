{
 "cells": [
  {
   "cell_type": "markdown",
   "metadata": {},
   "source": [
    "# Computational Modelling Tutorial - Which Words do Children Learn First?"
   ]
  },
  {
   "cell_type": "markdown",
   "metadata": {},
   "source": [
    "## Introduction"
   ]
  },
  {
   "cell_type": "markdown",
   "metadata": {},
   "source": [
    "This IPython notebook contains exercise 2 of the Computational Modelling tutorial at ISOLDE 2018 in Potsdam. \n",
    "\n",
    "- What does the model do?\n",
    "\n",
    "This model assesses different possibilities of predictors for which words emerge earlier in infants' vocabulary in English. Similar computations are possible in other languages, but here we focus on English for simplicity.\n",
    "\n",
    "We use data from the wordbank project, downloaded via http://wordbank.stanford.edu/ and from the Brent Corpus of North American English child directed speech, which is available on CHILDES (https://childes.talkbank.org/).\n",
    "\n",
    "- What do we need?\n",
    "\n",
    "\n",
    "1. Reading in the vocabulary data from wordbank and reading in the input data from the Brent corpus\n",
    "2. Extract words according to different rationales (raw frequency, position in a sentence) so that we get an ordered list\n",
    "3. Correlate the extracted predictor words and the learned words (and make sure to only compare words for with we have both acquisition and input data)"
   ]
  },
  {
   "cell_type": "markdown",
   "metadata": {},
   "source": [
    "## Writing your own code"
   ]
  },
  {
   "cell_type": "markdown",
   "metadata": {},
   "source": [
    "### Step 0: Import a useful library"
   ]
  },
  {
   "cell_type": "markdown",
   "metadata": {},
   "source": [
    "We will work with tables and subsetting, therefore we want to add more functionality to python. Pandas is very useful for these operations, so we ask python to load it. If you run this notebook via anaconda, you should have pandas as well."
   ]
  },
  {
   "cell_type": "code",
   "execution_count": 1,
   "metadata": {},
   "outputs": [],
   "source": [
    "import pandas as pd"
   ]
  },
  {
   "cell_type": "markdown",
   "metadata": {},
   "source": [
    "### Step 1: Reading in the data"
   ]
  },
  {
   "cell_type": "code",
   "execution_count": null,
   "metadata": {},
   "outputs": [],
   "source": [
    "def read_wordbank(filename):\n",
    "    \"\"\"read a vocabulary file downloaded from http://wordbank.stanford.edu/\n",
    "    the file contains a table with single words and the percentage of children who know the word at different ages\n",
    "    returns a pandas dataframe\"\"\"\n",
    "    "
   ]
  }
 ],
 "metadata": {
  "kernelspec": {
   "display_name": "Python 3",
   "language": "python",
   "name": "python3"
  },
  "language_info": {
   "codemirror_mode": {
    "name": "ipython",
    "version": 3
   },
   "file_extension": ".py",
   "mimetype": "text/x-python",
   "name": "python",
   "nbconvert_exporter": "python",
   "pygments_lexer": "ipython3",
   "version": "3.6.4"
  }
 },
 "nbformat": 4,
 "nbformat_minor": 2
}
